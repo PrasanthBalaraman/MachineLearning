{
 "cells": [
  {
   "cell_type": "code",
   "execution_count": null,
   "metadata": {},
   "outputs": [],
   "source": [
    "from glove import Corpus, Glove\n",
    "import pickle"
   ]
  },
  {
   "cell_type": "code",
   "execution_count": null,
   "metadata": {},
   "outputs": [],
   "source": [
    "glove = Glove.load('./glove_embedding_300_defect_summary.model')"
   ]
  },
  {
   "cell_type": "code",
   "execution_count": null,
   "metadata": {},
   "outputs": [],
   "source": [
    "dictionary_file = \"./gloVe_embedding_300_defect_summary.pickle\"\n",
    "\n",
    "dictionary_fh = open(dictionary_file, 'rb')\n",
    "dictionary = pickle.load(dictionary_fh)"
   ]
  },
  {
   "cell_type": "code",
   "execution_count": null,
   "metadata": {},
   "outputs": [],
   "source": [
    "glove.add_dictionary(dictionary)"
   ]
  },
  {
   "cell_type": "code",
   "execution_count": null,
   "metadata": {},
   "outputs": [],
   "source": [
    "# finding most similar words for words in list\n",
    "for word in ['sip', 'sipvm', 'wwe', 'workspace', 'designer', 'call', 'server', 'agent', 'error', 'sipfs']:\n",
    "    print(word)\n",
    "    sim = glove.most_similar(word, number=20)\n",
    "    print(sim)\n",
    "    print(\"\\n\")"
   ]
  },
  {
   "cell_type": "code",
   "execution_count": 1,
   "metadata": {},
   "outputs": [],
   "source": [
    "import gensim\n",
    "\n",
    "model = gensim.models.Word2Vec.load('pureengage_word_vectors.w2v') # _word2vec_form('pureengage_word_vectors.w2v', binary=False)"
   ]
  },
  {
   "cell_type": "code",
   "execution_count": 3,
   "metadata": {},
   "outputs": [
    {
     "data": {
      "text/plain": [
       "[('balanc_among', 0.6188579797744751),\n",
       " ('proxi', 0.6107262969017029),\n",
       " ('protocol_compat_matrix', 0.605929434299469),\n",
       " ('gcn', 0.5972322821617126),\n",
       " ('ucm_connector', 0.5801451802253723),\n",
       " ('per_dc', 0.5768159627914429),\n",
       " ('webapi_port', 0.5761343836784363),\n",
       " ('invent', 0.574524462223053),\n",
       " ('eshost', 0.5647391676902771),\n",
       " ('host', 0.5622395277023315)]"
      ]
     },
     "execution_count": 3,
     "metadata": {},
     "output_type": "execute_result"
    }
   ],
   "source": [
    "model.wv.most_similar('server')"
   ]
  },
  {
   "cell_type": "code",
   "execution_count": null,
   "metadata": {},
   "outputs": [],
   "source": []
  }
 ],
 "metadata": {
  "kernelspec": {
   "display_name": "Python 3",
   "language": "python",
   "name": "python3"
  },
  "language_info": {
   "codemirror_mode": {
    "name": "ipython",
    "version": 3
   },
   "file_extension": ".py",
   "mimetype": "text/x-python",
   "name": "python",
   "nbconvert_exporter": "python",
   "pygments_lexer": "ipython3",
   "version": "3.6.5"
  }
 },
 "nbformat": 4,
 "nbformat_minor": 2
}

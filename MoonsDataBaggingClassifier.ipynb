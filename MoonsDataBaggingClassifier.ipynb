{
  "nbformat": 4,
  "nbformat_minor": 0,
  "metadata": {
    "colab": {
      "name": "MoonsDataBaggingClassifier.ipynb",
      "version": "0.3.2",
      "provenance": [],
      "include_colab_link": true
    },
    "kernelspec": {
      "name": "python3",
      "display_name": "Python 3"
    }
  },
  "cells": [
    {
      "cell_type": "markdown",
      "metadata": {
        "id": "view-in-github",
        "colab_type": "text"
      },
      "source": [
        "[View in Colaboratory](https://colab.research.google.com/github/PrasanthBalaraman/myproject/blob/master/MoonsDataBaggingClassifier.ipynb)"
      ]
    },
    {
      "metadata": {
        "id": "2WOxyVhliqJk",
        "colab_type": "code",
        "colab": {}
      },
      "cell_type": "code",
      "source": [
        "from sklearn.datasets import make_moons\n",
        "from sklearn.ensemble import BaggingClassifier\n",
        "from sklearn.tree import DecisionTreeClassifier\n",
        "from sklearn.metrics import accuracy_score\n",
        "from sklearn.model_selection import train_test_split"
      ],
      "execution_count": 0,
      "outputs": []
    },
    {
      "metadata": {
        "id": "q3ZeQYTxi_ny",
        "colab_type": "code",
        "colab": {}
      },
      "cell_type": "code",
      "source": [
        "data = make_moons(n_samples=10000, noise=0.4)\n",
        "X_train, X_test, y_train, y_test = train_test_split(data[0], data[1], test_size=0.2, random_state=42)"
      ],
      "execution_count": 0,
      "outputs": []
    },
    {
      "metadata": {
        "id": "-iqw4pTLjuar",
        "colab_type": "code",
        "colab": {}
      },
      "cell_type": "code",
      "source": [
        "# bagging\n",
        "bag_clf = BaggingClassifier(DecisionTreeClassifier(), \n",
        "                            n_estimators=500, \n",
        "                            max_samples=100, \n",
        "                            bootstrap=True, \n",
        "                            n_jobs=-1)"
      ],
      "execution_count": 0,
      "outputs": []
    },
    {
      "metadata": {
        "id": "8b08k7CrknKm",
        "colab_type": "code",
        "colab": {
          "base_uri": "https://localhost:8080/",
          "height": 34
        },
        "outputId": "546c40e8-43f6-4879-d87c-495f0a7158c2"
      },
      "cell_type": "code",
      "source": [
        "# bagging accuracy\n",
        "bag_clf.fit(X_train, y_train)\n",
        "accuracy_score(bag_clf.predict(X_test), y_test)"
      ],
      "execution_count": 10,
      "outputs": [
        {
          "output_type": "execute_result",
          "data": {
            "text/plain": [
              "0.859"
            ]
          },
          "metadata": {
            "tags": []
          },
          "execution_count": 10
        }
      ]
    },
    {
      "metadata": {
        "id": "koj7-VhnlCno",
        "colab_type": "code",
        "colab": {}
      },
      "cell_type": "code",
      "source": [
        "# pasting \n",
        "bag_clf = BaggingClassifier(DecisionTreeClassifier(), \n",
        "                            n_estimators=500, \n",
        "                            max_samples=100, \n",
        "                            bootstrap=False, \n",
        "                            n_jobs=-1)"
      ],
      "execution_count": 0,
      "outputs": []
    },
    {
      "metadata": {
        "id": "dE8-H059lLSZ",
        "colab_type": "code",
        "colab": {
          "base_uri": "https://localhost:8080/",
          "height": 34
        },
        "outputId": "b59e31ae-6893-4e8e-a87a-700aeea0f7f9"
      },
      "cell_type": "code",
      "source": [
        "# pasting accuracy\n",
        "bag_clf.fit(X_train, y_train)\n",
        "accuracy_score(bag_clf.predict(X_test), y_test)"
      ],
      "execution_count": 13,
      "outputs": [
        {
          "output_type": "execute_result",
          "data": {
            "text/plain": [
              "0.8585"
            ]
          },
          "metadata": {
            "tags": []
          },
          "execution_count": 13
        }
      ]
    },
    {
      "metadata": {
        "id": "sYpvEIlXl8Js",
        "colab_type": "code",
        "colab": {}
      },
      "cell_type": "code",
      "source": [
        "# during training of each estimator/predictor only some percentage of the training instances will be shown \n",
        "# the rest of the training instances is called as oot of bag instances or oob instances\n",
        "# inorder for each predictor/estimator to evaluate on its own oob instance \n",
        "# we should the opt"
      ],
      "execution_count": 0,
      "outputs": []
    }
  ]
}